{
 "cells": [
  {
   "cell_type": "markdown",
   "metadata": {},
   "source": [
    "# Testing the Python code for the Microwave Cavity Impedance Model\n",
    "\n",
    "**it was veryfied that the numeric codes of the Igor script and the Python script (see trmc_network.py) give the same results**\n"
   ]
  },
  {
   "cell_type": "code",
   "execution_count": 1,
   "metadata": {
    "jupyter": {
     "source_hidden": true
    }
   },
   "outputs": [
    {
     "name": "stdout",
     "output_type": "stream",
     "text": [
      "matplotlib version is : 3.2.2\n"
     ]
    }
   ],
   "source": [
    "%matplotlib widget\n",
    "\n",
    "import quickyplot as qp\n",
    "import physbits\n",
    "import numpy as np\n",
    "import math\n",
    "import matplotlib.pyplot as plt\n",
    "import pandas as pd\n",
    "import matplotlib as mpl\n",
    "print('matplotlib version is : {}'.format(mpl.__version__))\n",
    "\n",
    "import dataimport as di\n",
    "import pathlib\n",
    "from trmc_network import S11ghz\n",
    "from curvefit_ks import curve_fit"
   ]
  },
  {
   "cell_type": "markdown",
   "metadata": {},
   "source": [
    "## test data from 10.08.2020\n",
    "\n",
    "**noteworthy observations**   \n",
    "* The glass substrate only and the coated substrate should be at the same resonance frequency\n",
    "* there seems to be a large variation in signal depth and also peak position in the trmc experiment. The reason for this is not fully understood yet. Part of it is mechanical reproduceability"
   ]
  },
  {
   "cell_type": "code",
   "execution_count": 2,
   "metadata": {
    "jupyter": {
     "source_hidden": true
    }
   },
   "outputs": [
    {
     "data": {
      "application/vnd.jupyter.widget-view+json": {
       "model_id": "5526854159864e659178ba59d0b85b70",
       "version_major": 2,
       "version_minor": 0
      },
      "text/plain": [
       "Canvas(toolbar=Toolbar(toolitems=[('Home', 'Reset original view', 'home', 'home'), ('Back', 'Back to previous …"
      ]
     },
     "metadata": {},
     "output_type": "display_data"
    }
   ],
   "source": [
    "import numeric_ks\n",
    "\n",
    "#dir = pathlib.Path('y:/math/comsol/ref data/2020-03-09 Cavity Tests')\n",
    "dir = pathlib.Path('u:/friedrich/TRMC/200810_TiO2_Sorbonne_2/')\n",
    "file1 = 'R_empty cavity_8300-9200_C2_60ms_1s.tdms'\n",
    "file2 = 'R_quartz_8300-8700_C2_60ms_1s.tdms'\n",
    "#file3 = 'R_AD-155_2L_800C_8300-8700_C2_60ms_1s.tdms' #sample data\n",
    "file3 = 'R_AD-155_4L_800C_8300-8700_C2_60ms_1s.tdms'\n",
    "\n",
    "# data of empty cavity with solid backplate from march\n",
    "file4 = 'c:/Users/scp/nextcloud/develop/python/misc/trmc-impedance/ref_data/2020-03-09 Cavity Tests/R-C2-empty-CuPlate064.tdms'\n",
    "d = di.read_tdms(file4)\n",
    "d_empty2 = d[1].values\n",
    "\n",
    "d = di.read_tdms(dir/file1)\n",
    "d_empty = d[0].values\n",
    "d = di.read_tdms(dir/file2)\n",
    "d_quartz = d[0].values\n",
    "d = di.read_tdms(dir/file3)\n",
    "d_sample = d[0].values\n",
    "\n",
    "x1 = d_empty[:,0] / 1000\n",
    "y1 = d_empty[:,1]\n",
    "\n",
    "x2 = d_quartz[:,0] / 1000\n",
    "y2 = d_quartz[:,1]\n",
    "\n",
    "x3 = d_sample[:,0] / 1000\n",
    "y3 = d_sample[:,1]\n",
    "\n",
    "x4 = d_empty2[:,0] / 1000\n",
    "y4 = d_empty2[:,1]\n",
    "\n",
    "\n",
    "q = qp.quickyplot('',ptype='LINE',label_loc='upper left',xlabel='frequency in GHz',ylabel='R/R0')\n",
    "\n",
    "q.addplotxy(x1,y1,'empty')\n",
    "q.addplotxy(x4,y4,'empty2')\n",
    "q.addplotxy(x2,y2,'quartz')\n",
    "q.addplotxy(x3,y3,'Sample TiO2')\n",
    "q.show()\n"
   ]
  },
  {
   "cell_type": "markdown",
   "metadata": {},
   "source": [
    "# fitting the data I (using the empty cavity as a reference)\n",
    "\n",
    "* first the empty cavity is fitted to find the cavity length, loss factor and iris diameter\n",
    "* Note that the substrate and layer thicknesses in the model also add to the total thickness of the cavity!\n",
    "* Follwing the bare substrate and then the TiO2 coated substrate are fitted\n",
    "* The different position of the resonance peak can be due to different substrate eps or different substrate thickness. Here the eps is fitted although the substrates are/should be actually identical\n",
    "\n",
    "**The result shows that by using the empty cavity data to extract all the cavity parameters and using those parameters for the cavity loaded with a sample gives only modest fitting results**\n",
    "\n",
    "\n",
    "\n"
   ]
  },
  {
   "cell_type": "code",
   "execution_count": 3,
   "metadata": {
    "jupyter": {
     "source_hidden": true
    }
   },
   "outputs": [
    {
     "data": {
      "application/vnd.jupyter.widget-view+json": {
       "model_id": "65e9f64ce7454acd9a14f40901c0ed72",
       "version_major": 2,
       "version_minor": 0
      },
      "text/plain": [
       "Canvas(toolbar=Toolbar(toolitems=[('Home', 'Reset original view', 'home', 'home'), ('Back', 'Back to previous …"
      ]
     },
     "metadata": {},
     "output_type": "display_data"
    },
    {
     "name": "stdout",
     "output_type": "stream",
     "text": [
      "empty cavity :\n",
      "chisqr = 0.17786436597422153\n",
      "d1 = 35.13363913943076\n",
      "d_iris = 10.473708916051189\n",
      "loss_fac = 3.09980532025005e-07\n",
      "\n",
      "cavity with quartz substrate:\n",
      "chisqr = 0.6358448077829555\n",
      "kfactor = -60279.923356426334\n",
      "sub_epsr = 4.313551815613199\n",
      "\n",
      "cavity with TiO2 layer on quartz substrate:\n",
      "chisqr = 0.8339152549660519\n",
      "kfactor = -52903.52818535912\n",
      "layer_sig = -4.243865917185213e-06\n",
      "sub_epsr = 3.910725096468163\n"
     ]
    }
   ],
   "source": [
    "#%%timeit -n1 -r1\n",
    "\n",
    "\n",
    "def s11_func(freq_ghz,d1,d2,d_iris,loss_fac,copper_S,layer_t,layer_epsr,layer_sig,sub_t,sub_epsr,sub_sig):\n",
    "    # helper function for fitting\n",
    "    global s11\n",
    "    s11.d1 = d1 #first distance in mm, distance between sample and cavity end\n",
    "    s11.d2 = d2 # 'complementary' distance in mm\n",
    "    s11.d_iris=d_iris # iris diameter in mm\n",
    "    s11.loss_fac=loss_fac #copper loss adjustment \n",
    "    s11.layer_t=layer_t # layer thickness in mm\n",
    "    s11.layer_epsr=layer_epsr #dieelectric constant layer\n",
    "    #s11.layer_sig = layer_sig # conductance layer S/m\n",
    "    s11.layer_sig = abs(layer_sig) # conductance layer S/m\n",
    "    s11.sub_t=sub_t # substrate thickness in mm\n",
    "    s11.sub_epsr=sub_epsr # substrate (quartz) epsr  \n",
    "    s11.sub_sig = abs(sub_sig)\n",
    "    s11.copper_S = abs(copper_S)\n",
    "    # return np.array([s11.calc(x) for x in freq_ghz]) # freq_ghz is an array! , non numpy version   \n",
    "    return s11.calc(freq_ghz) \n",
    "    \n",
    "\n",
    "q = qp.quickyplot('',ptype='LINE',label_loc='upper right',xlabel='frequency in GHz',ylabel='R/R0')\n",
    "\n",
    "q.addplotxy(x1,y1,'empty')\n",
    "q.addplotxy(x2,y2,'quartz')\n",
    "q.addplotxy(x3,y3,'TiO2')\n",
    "\n",
    "s11 = S11ghz()\n",
    "#s11.a = 23\n",
    "\n",
    "c = curve_fit(s11_func)\n",
    "\n",
    "######## empty cavity #############\n",
    "c.set('d1',35.825,False)\n",
    "c.set('d2',11,True)\n",
    "c.set('d_iris',9.6,False)\n",
    "c.set('loss_fac',1e-7,False)\n",
    "c.set('copper_S',5.5e7,True)\n",
    "c.set('layer_t',0.001,True)\n",
    "c.set('layer_epsr',1,True)\n",
    "c.set('layer_sig',0,True)\n",
    "c.set('sub_t',1,True) # by adding a substrate with eps=1 we account for the proper total cavity length\n",
    "c.set('sub_epsr',1,True)\n",
    "c.set('sub_sig',0,True)\n",
    "\n",
    "c.fit(x1,y1,method='dogbox')\n",
    "\n",
    "y = c.calc(x1)\n",
    "dy = (y-y1)**2\n",
    "print('empty cavity :')\n",
    "print(f'chisqr = {np.sqrt(dy.sum())}') \n",
    "q.addplotxy(x1,y,'fit empty')\n",
    "\n",
    "for p in c.plist:\n",
    "    if not p['fixed']:\n",
    "        print(f\"{p['name']} = {p['val']}\")\n",
    "        \n",
    "\n",
    "\n",
    "######## quartz loaded cavity #############\n",
    "c.fix('d1')\n",
    "c.fix('d2')\n",
    "c.fix('d_iris')\n",
    "c.fix('loss_fac')\n",
    "c.set('layer_t',0.001,True)\n",
    "c.set('layer_epsr',1,True)\n",
    "c.set('layer_sig',0,True)\n",
    "c.set('sub_t',1,True)\n",
    "c.set('sub_epsr',3.6,False)\n",
    "c.set('sub_sig',0,True)\n",
    "\n",
    "c.fit(x2,y2,method='lm')\n",
    "\n",
    "y = c.calc(x2)\n",
    "dy = (y-y2)**2\n",
    "print('\\ncavity with quartz substrate:')\n",
    "print(f'chisqr = {np.sqrt(dy.sum())}') \n",
    "k=y.argmin()\n",
    "fmin = x2[k]\n",
    "s11.layer_sig = 1\n",
    "kf = s11.kfactor(fmin,rel_change=0.001)\n",
    "print(f'kfactor = {kf}')\n",
    "\n",
    "for p in c.plist:\n",
    "    if not p['fixed']:\n",
    "        print(f\"{p['name']} = {p['val']}\")\n",
    "        \n",
    "q.addplotxy(x2,y,'fit quartz')\n",
    "\n",
    "\n",
    "\n",
    "######## sample loaded cavity #############        \n",
    "c.fix('d1')\n",
    "c.fix('d2')\n",
    "c.fix('d_iris')\n",
    "c.fix('loss_fac')\n",
    "c.unfix('sub_epsr')\n",
    "\n",
    "c.set('layer_t',0.001,True)\n",
    "c.set('layer_epsr',1,True)\n",
    "c.set('layer_sig',1,False)\n",
    "\n",
    "c.fit(x3,y3,method='lm')\n",
    "\n",
    "#c.set('layer_sig',6.66,False)\n",
    "\n",
    "y = c.calc(x3)\n",
    "dy = (y-y3)**2\n",
    "print('\\ncavity with TiO2 layer on quartz substrate:')\n",
    "print(f'chisqr = {np.sqrt(dy.sum())}') \n",
    "k = y.argmin()\n",
    "fmin = x3[k]\n",
    "s11.layer_sig = 1\n",
    "kf = s11.kfactor(fmin,rel_change=0.001)\n",
    "print(f'kfactor = {kf}')\n",
    "\n",
    "for p in c.plist:\n",
    "    if not p['fixed']:\n",
    "        print(f\"{p['name']} = {p['val']}\")\n",
    "        \n",
    "q.addplotxy(x3,y,'fit TiO2')\n",
    "\n",
    "# c.layer_sig = 10\n",
    "# y = c.calc(x3)\n",
    "# q.addplotxy(x3,y,'TiO2 S=0.1')\n",
    "\n",
    "q.show()\n"
   ]
  },
  {
   "cell_type": "markdown",
   "metadata": {},
   "source": [
    "# fitting the data II \n",
    "## fit also the loss factor and iris diameter\n",
    "\n",
    "**this gives us an almost perfect fit, but the physical origin of the parameter change is unclear**    \n",
    "**Note the lower k-factor in this case!**"
   ]
  },
  {
   "cell_type": "code",
   "execution_count": 4,
   "metadata": {
    "jupyter": {
     "source_hidden": true
    }
   },
   "outputs": [
    {
     "data": {
      "application/vnd.jupyter.widget-view+json": {
       "model_id": "1cd4cd6d07f94b0aa03aa28124e38c8e",
       "version_major": 2,
       "version_minor": 0
      },
      "text/plain": [
       "Canvas(toolbar=Toolbar(toolitems=[('Home', 'Reset original view', 'home', 'home'), ('Back', 'Back to previous …"
      ]
     },
     "metadata": {},
     "output_type": "display_data"
    },
    {
     "name": "stdout",
     "output_type": "stream",
     "text": [
      "empty cavity :\n",
      "chisqr = 0.17786436597422153\n",
      "d1 = 35.13363913943076\n",
      "d_iris = 10.473708916051189\n",
      "loss_fac = 3.09980532025005e-07\n",
      "\n",
      "cavity with quartz substrate:\n",
      "chisqr = 0.12287070752688847\n",
      "kfactor = -36958.53746293994\n",
      "d_iris = 10.797122073839475\n",
      "loss_fac = 2.3957404862235416e-07\n",
      "sub_epsr = 4.25987329604719\n",
      "\n",
      "cavity with TiO2 layer on quartz substrate:\n",
      "chisqr = 0.1647421174789661\n",
      "kfactor = -37157.30241358824\n",
      "d_iris = 10.679195430272651\n",
      "loss_fac = 2.2674771054990416e-07\n",
      "layer_sig = 4.990365822445449e-06\n",
      "sub_epsr = 3.870646553065067\n"
     ]
    }
   ],
   "source": [
    " \n",
    "q = qp.quickyplot('',ptype='LINE',label_loc='upper right',xlabel='frequency in GHz',ylabel='R/R0')\n",
    "\n",
    "q.addplotxy(x1,y1,'empty')\n",
    "q.addplotxy(x2,y2,'quartz')\n",
    "q.addplotxy(x3,y3,'TiO2')\n",
    "\n",
    "s11 = S11ghz()\n",
    "#s11.a = 23\n",
    "\n",
    "c = curve_fit(s11_func)\n",
    "\n",
    "######## empty cavity #############\n",
    "c.set('d1',35.825,False)\n",
    "c.set('d2',11,True)\n",
    "c.set('d_iris',9.6,False)\n",
    "c.set('loss_fac',1e-7,False)\n",
    "c.set('copper_S',5.5e7,True)\n",
    "c.set('layer_t',0.001,True)\n",
    "c.set('layer_epsr',1,True)\n",
    "c.set('layer_sig',0,True)\n",
    "c.set('sub_t',1,True) # by adding a substrate with eps=1 we account for the proper total cavity length\n",
    "c.set('sub_epsr',1,True)\n",
    "c.set('sub_sig',0,True)\n",
    "\n",
    "c.fit(x1,y1,method='dogbox')\n",
    "\n",
    "y = c.calc(x1)\n",
    "dy = (y-y1)**2\n",
    "print('empty cavity :')\n",
    "print(f'chisqr = {np.sqrt(dy.sum())}') \n",
    "q.addplotxy(x1,y,'fit empty')\n",
    "\n",
    "for p in c.plist:\n",
    "    if not p['fixed']:\n",
    "        print(f\"{p['name']} = {p['val']}\")\n",
    "        \n",
    "\n",
    "\n",
    "######## quartz loaded cavity #############\n",
    "c.fix('d1')\n",
    "c.fix('d2')\n",
    "c.unfix('d_iris')\n",
    "c.unfix('loss_fac')\n",
    "c.set('layer_t',0.001,True)\n",
    "c.set('layer_epsr',1,True)\n",
    "c.set('layer_sig',0,True)\n",
    "c.set('sub_t',1,True)\n",
    "c.set('sub_epsr',3.6,False)\n",
    "c.set('sub_sig',0,True)\n",
    "\n",
    "c.fit(x2,y2,method='lm')\n",
    "\n",
    "y = c.calc(x2)\n",
    "dy = (y-y2)**2\n",
    "print('\\ncavity with quartz substrate:')\n",
    "print(f'chisqr = {np.sqrt(dy.sum())}') \n",
    "k=y.argmin()\n",
    "fmin = x2[k]\n",
    "s11.layer_sig = 1\n",
    "kf = s11.kfactor(fmin,rel_change=0.001)\n",
    "print(f'kfactor = {kf}')\n",
    "\n",
    "for p in c.plist:\n",
    "    if not p['fixed']:\n",
    "        print(f\"{p['name']} = {p['val']}\")\n",
    "        \n",
    "q.addplotxy(x2,y,'fit quartz')\n",
    "\n",
    "\n",
    "\n",
    "######## sample loaded cavity #############        \n",
    "c.fix('d1')\n",
    "c.fix('d2')\n",
    "c.unfix('d_iris')\n",
    "c.unfix('loss_fac')\n",
    "c.unfix('sub_epsr')\n",
    "\n",
    "c.set('layer_t',0.001,True)\n",
    "c.set('layer_epsr',1,True)\n",
    "c.set('layer_sig',1,False)\n",
    "\n",
    "c.fit(x3,y3,method='lm')\n",
    "\n",
    "#c.set('layer_sig',6.66,False)\n",
    "\n",
    "y = c.calc(x3)\n",
    "dy = (y-y3)**2\n",
    "print('\\ncavity with TiO2 layer on quartz substrate:')\n",
    "print(f'chisqr = {np.sqrt(dy.sum())}') \n",
    "k = y.argmin()\n",
    "fmin = x3[k]\n",
    "s11.layer_sig = 1\n",
    "kf = s11.kfactor(fmin,rel_change=0.001)\n",
    "print(f'kfactor = {kf}')\n",
    "\n",
    "for p in c.plist:\n",
    "    if not p['fixed']:\n",
    "        print(f\"{p['name']} = {p['val']}\")\n",
    "        \n",
    "q.addplotxy(x3,y,'fit TiO2')\n",
    "\n",
    "# c.layer_sig = 10\n",
    "# y = c.calc(x3)\n",
    "# q.addplotxy(x3,y,'TiO2 S=0.1')\n",
    "\n",
    "q.show()\n"
   ]
  },
  {
   "cell_type": "markdown",
   "metadata": {},
   "source": [
    "# k factor as a function of the loss factor"
   ]
  },
  {
   "cell_type": "code",
   "execution_count": 5,
   "metadata": {
    "jupyter": {
     "source_hidden": true
    }
   },
   "outputs": [
    {
     "data": {
      "application/vnd.jupyter.widget-view+json": {
       "model_id": "46e9e82599084fcc8c9c6eab94f2a869",
       "version_major": 2,
       "version_minor": 0
      },
      "text/plain": [
       "Canvas(toolbar=Toolbar(toolitems=[('Home', 'Reset original view', 'home', 'home'), ('Back', 'Back to previous …"
      ]
     },
     "metadata": {},
     "output_type": "display_data"
    },
    {
     "data": {
      "application/vnd.jupyter.widget-view+json": {
       "model_id": "b6622054c52c43ab88288eef948a853e",
       "version_major": 2,
       "version_minor": 0
      },
      "text/plain": [
       "Canvas(toolbar=Toolbar(toolitems=[('Home', 'Reset original view', 'home', 'home'), ('Back', 'Back to previous …"
      ]
     },
     "metadata": {},
     "output_type": "display_data"
    }
   ],
   "source": [
    "f = np.arange(8.3,8.6,0.001)\n",
    "\n",
    "q = qp.quickyplot('Toms formula loss factor influence',ptype='LINE',label_loc='upper right',\n",
    "                   xlabel='conductance [S]',ylabel='k-factor')\n",
    "\n",
    "\n",
    "losslist = [5e-8,1e-7,2e-7,3e-7]\n",
    "\n",
    "for loss in losslist :\n",
    "    s11.layer_sig = 0\n",
    "    s11.loss_fac= loss  \n",
    "    y = s11.calc(f)\n",
    "    k=y.argmin() #find the min of the resonance peak\n",
    "    fmin = f[k]      \n",
    "    t_in_m = (s11.layer_t*1e-3)\n",
    "\n",
    "    g = np.logspace(-8,-2,500) # conductance\n",
    "    sig = g / t_in_m # conductivity\n",
    "    kfac = np.zeros_like(sig)    \n",
    "\n",
    "    for k,x in enumerate(sig):\n",
    "        s11.layer_sig = x\n",
    "        kfac[k] = s11.kfactor(fmin)        \n",
    "\n",
    "    q.addplotxy(g,kfac,f'loss={loss:.3}')\n",
    "\n",
    "q.xlog()\n",
    "q.show()\n",
    "\n",
    "\n",
    "q = qp.quickyplot('resonance curves',ptype='LINE',label_loc='lower left',\n",
    "                 xlabel='frequency [GHz]',ylabel='S11')\n",
    "\n",
    "f = np.arange(8.3,8.7,0.001)\n",
    "\n",
    "\n",
    "for loss in losslist:\n",
    "    s11.layer_sig = 0\n",
    "    s11.loss_fac= loss\n",
    "    y = s11.calc(f)\n",
    "    q.addplotxy(f,y,f'loss={loss}')\n",
    "q.show()\n"
   ]
  },
  {
   "cell_type": "markdown",
   "metadata": {},
   "source": [
    "# k factor as a function of the iris diameter"
   ]
  },
  {
   "cell_type": "code",
   "execution_count": 6,
   "metadata": {
    "jupyter": {
     "source_hidden": true
    }
   },
   "outputs": [
    {
     "data": {
      "application/vnd.jupyter.widget-view+json": {
       "model_id": "701ed446cba341debd2c401ad684dc1f",
       "version_major": 2,
       "version_minor": 0
      },
      "text/plain": [
       "Canvas(toolbar=Toolbar(toolitems=[('Home', 'Reset original view', 'home', 'home'), ('Back', 'Back to previous …"
      ]
     },
     "metadata": {},
     "output_type": "display_data"
    },
    {
     "data": {
      "application/vnd.jupyter.widget-view+json": {
       "model_id": "54a9541895ab4fbab03b33a0efb40d36",
       "version_major": 2,
       "version_minor": 0
      },
      "text/plain": [
       "Canvas(toolbar=Toolbar(toolitems=[('Home', 'Reset original view', 'home', 'home'), ('Back', 'Back to previous …"
      ]
     },
     "metadata": {},
     "output_type": "display_data"
    }
   ],
   "source": [
    "\n",
    "f = np.arange(8.3,8.6,0.001)\n",
    "\n",
    "q = qp.quickyplot('Toms formula iris diameter influence',ptype='LINE',label_loc='upper right',\n",
    "                   xlabel='conductance [S]',ylabel='k-factor')\n",
    "\n",
    "\n",
    "irislist = [9.0,9.5,10,10.5,11.0]\n",
    "\n",
    "s11.loss_fac= 2e-7\n",
    "\n",
    "for dia in irislist :\n",
    "    s11.layer_sig = 0\n",
    "    s11.d_iris = dia\n",
    "    y = s11.calc(f)\n",
    "    k=y.argmin() #find the min of the resonance peak\n",
    "    fmin = f[k]      \n",
    "    t_in_m = (s11.layer_t*1e-3)\n",
    "\n",
    "    g = np.logspace(-8,-2,500) # conductance\n",
    "    sig = g / t_in_m # conductivity\n",
    "    kfac = np.zeros_like(sig)    \n",
    "\n",
    "    for k,x in enumerate(sig):\n",
    "        s11.layer_sig = x\n",
    "        kfac[k] = s11.kfactor(fmin)        \n",
    "\n",
    "    q.addplotxy(g,kfac,f'dia={dia}mm')\n",
    "\n",
    "q.xlog()\n",
    "q.show()\n",
    "\n",
    "\n",
    "q = qp.quickyplot('resonance curves',ptype='LINE',label_loc='lower left',\n",
    "                 xlabel='frequency [GHz]',ylabel='S11')\n",
    "\n",
    "f = np.arange(8.3,8.7,0.001)\n",
    "\n",
    "\n",
    "for dia in irislist :\n",
    "    s11.layer_sig = 0\n",
    "    s11.d_iris = dia    \n",
    "    y = s11.calc(f)\n",
    "    q.addplotxy(f,y,f'dia={dia}mm')\n",
    "q.show()\n"
   ]
  },
  {
   "cell_type": "markdown",
   "metadata": {},
   "source": [
    "# Appendix - k factor calculation"
   ]
  },
  {
   "cell_type": "markdown",
   "metadata": {},
   "source": [
    "## Conversion of detector voltage to rf reflection coefficient dP/P\n",
    "   \n",
    "The power is roughly a quadratic function of the RF detector voltage (n~2):  \n",
    "\n",
    "$$ P=a V^n$$   \n",
    "\n",
    "In the dark, the detector voltage is Vo. We make a Taylor expansion at V=Vo:  \n",
    "\n",
    "$$ P(V_{0}+\\Delta V) = P(V_{0}) + a n V_{0}^{n-1} \\Delta V$$   \n",
    "$$ \\Delta P(V_{0}+\\Delta V) = a n V_{0}^{n-1} \\Delta V $$\n",
    "Finally we get:   \n",
    "\n",
    "$$ \\frac{\\Delta P(V_{0}+\\Delta V)}{P(V_{0})} =  \\frac{a n V_{0}^{n-1} \\Delta V}{a V_{0}^{n} } = n \\frac{\\Delta V}{V_{0}}$$\n"
   ]
  },
  {
   "cell_type": "markdown",
   "metadata": {},
   "source": [
    "## calculating conductivity $\\sigma$ and conductance G from the laser power $P_{L}$   \n",
    "\n",
    "The semiconductor sample may be homogenously illuminated by lightpulses with a power density $P_{L}$ given in units of J/cm2. The sample fills the cavity with dimensions b = 10.2mm and a = 22.9mm (X-band) and it has a thickness of d. The RF electric field oscillates in the direction of the shorter side (b). If we assume that all photons having a wavelength $\\lambda$ are absorbed, a carrier density of $\\Delta N$ is created:\n",
    "\n",
    "$$ \\Delta N = \\frac{P_{L} \\lambda}{h c} \\frac{1}{d}$$   \n",
    "\n",
    "With c=speed of light and h Plancks constant. The increase charge carrier count corresponds to a change in conductivity:\n",
    "\n",
    "$$ \\Delta\\sigma = e \\Delta N (\\mu_{e} + \\mu_{h})  $$   \n",
    "\n",
    "With $\\mu_{e} , \\mu_{h}$ mobility of electrons and holes and e the elementary charge. To calculate the total conductance change $\\Delta G$ the RF E-field is seeing, we need the area A perpendicular to the Field and thickness L of the sample in the direction of E:\n",
    "\n",
    "$$ \\Delta G = \\Delta\\sigma \\frac{A}{L}  $$   \n",
    "\n",
    "With A = a*d and L=b we get:\n",
    "\n",
    "$$ \\Delta G = \\Delta\\sigma \\frac{a}{b} d = \\Delta\\sigma \\beta d  $$   \n",
    "\n",
    "With $\\beta = a/b$ (=2.245 for X band)"
   ]
  },
  {
   "cell_type": "markdown",
   "metadata": {},
   "source": [
    "## k - factor    \n",
    "\n",
    "The sensitivty k-factor is defined by:\n",
    "\n",
    "$$ k = \\frac{\\frac{\\Delta P}{P}}{\\Delta G}   $$   \n",
    "\n",
    "With the formulas from above we can express this via measureable quantities and with a well defined reference sample with known mobility we can calculate k:\n",
    "\n",
    "$$\n",
    "k = \\Delta V \\frac{n}{V_{0}} \\times \\frac{h c}{\\beta e (\\mu_{e} + \\mu_{h}) } \\times \\frac{1}{P_{L} \\lambda}\n",
    "$$\n",
    "\n",
    "If k is known , we can caclulate the sum of mobilities:\n",
    "\n",
    "$$\n",
    "(\\mu_{e} + \\mu_{h}) = \\Delta V \\frac{n}{V_{0}} \\times \\frac{h c}{\\beta e } \\times \\frac{1}{P_{L} \\lambda} \\times \\frac{1}{k}\n",
    "$$\n"
   ]
  }
 ],
 "metadata": {
  "kernelspec": {
   "display_name": "Python 3",
   "language": "python",
   "name": "python3"
  },
  "language_info": {
   "codemirror_mode": {
    "name": "ipython",
    "version": 3
   },
   "file_extension": ".py",
   "mimetype": "text/x-python",
   "name": "python",
   "nbconvert_exporter": "python",
   "pygments_lexer": "ipython3",
   "version": "3.8.5"
  }
 },
 "nbformat": 4,
 "nbformat_minor": 4
}
